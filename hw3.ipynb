{
  "nbformat": 4,
  "nbformat_minor": 0,
  "metadata": {
    "colab": {
      "name": "hw3.ipynb",
      "provenance": [],
      "collapsed_sections": []
    },
    "kernelspec": {
      "name": "python3",
      "display_name": "Python 3"
    },
    "language_info": {
      "name": "python"
    }
  },
  "cells": [
    {
      "cell_type": "markdown",
      "metadata": {
        "id": "hN4RZzbESHrA"
      },
      "source": [
        "**Домашнее задание № 3**"
      ]
    },
    {
      "cell_type": "code",
      "metadata": {
        "id": "7dozSODNSEMl"
      },
      "source": [
        "from math import factorial\n",
        "import numpy as np\n",
        "import seaborn as sns"
      ],
      "execution_count": 1,
      "outputs": []
    },
    {
      "cell_type": "markdown",
      "metadata": {
        "id": "fzm-hjzDSvCv"
      },
      "source": [
        "Задача 1"
      ]
    },
    {
      "cell_type": "code",
      "metadata": {
        "colab": {
          "base_uri": "https://localhost:8080/"
        },
        "id": "8lgQNkCZdXqj",
        "outputId": "43197e3a-84cb-4a7b-9f30-250514f0ad31"
      },
      "source": [
        "salary = np.array([100, 80, 75, 77, 89, 33, 45, 25, 65, 17, 30, 24, 57, 55, 70, 75, 65, 84, 90, 150])\n",
        "\n",
        "mean_salary = salary.sum() / salary.size\n",
        "print(\"Среднее арифметическое для данной выборки равно:\", mean_salary)\n",
        "\n",
        "mean_salary2 = salary.mean()\n",
        "print(\"Среднее арифметическое для данной выборки равно:\", mean_salary2)\n",
        "\n",
        "salary_std = np.sqrt(((salary - salary.mean())**2).sum() / salary.size)\n",
        "print(\"Среднее квадратичное отклонение для данной выборки равно:\", salary_std)\n",
        "\n",
        "salary_std2 = salary.std(ddof=0)\n",
        "print(\"Среднее квадратичное отклонение для данной выборки равно:\", salary_std2)\n",
        "\n",
        "salary_variance0 = ((salary - salary.mean())**2).sum() / salary.size\n",
        "print(\"Смещенная оценка дисперсии для данной выборки равна:\", salary_variance0)\n",
        "\n",
        "salary_variance02 = salary.var(ddof=0)\n",
        "print(\"Смещенная оценка дисперсии для данной выборки равна:\", salary_variance02)\n",
        "\n",
        "salary_variance1 = ((salary - salary.mean())**2).sum() / (salary.size - 1)\n",
        "print(\"Несмещенная оценка дисперсии для данной выборки равна:\", salary_variance1)\n",
        "\n",
        "salary_variance12 = salary.var(ddof=1)\n",
        "print(\"Несмещенная оценка дисперсии для данной выборки равна:\", salary_variance12)\n"
      ],
      "execution_count": 2,
      "outputs": [
        {
          "output_type": "stream",
          "text": [
            "Среднее арифметическое для данной выборки равно: 65.3\n",
            "Среднее арифметическое для данной выборки равно: 65.3\n",
            "Среднее квадратичное отклонение для данной выборки равно: 30.823854398825596\n",
            "Среднее квадратичное отклонение для данной выборки равно: 30.823854398825596\n",
            "Смещенная оценка дисперсии для данной выборки равна: 950.11\n",
            "Смещенная оценка дисперсии для данной выборки равна: 950.11\n",
            "Несмещенная оценка дисперсии для данной выборки равна: 1000.1157894736842\n",
            "Несмещенная оценка дисперсии для данной выборки равна: 1000.1157894736842\n"
          ],
          "name": "stdout"
        }
      ]
    },
    {
      "cell_type": "markdown",
      "metadata": {
        "id": "PTmW-3Clm0ji"
      },
      "source": [
        "Задача 2"
      ]
    },
    {
      "cell_type": "code",
      "metadata": {
        "colab": {
          "base_uri": "https://localhost:8080/",
          "height": 367
        },
        "id": "dsazUYXRm2k0",
        "outputId": "fe0918cf-9c62-4136-f4e8-85d6897a5ea1"
      },
      "source": [
        "sns.boxplot(data=salary)\n",
        "salary_q1 = np.quantile(salary, 0.25)\n",
        "# salary_q2 = np.quantile(salary, 0.5)\n",
        "salary_q3 = np.quantile(salary, 0.75)\n",
        "print(salary_q1)\n",
        "# print(salary_q2)\n",
        "print(salary_q3)\n",
        "\n",
        "salary_iqr = salary_q3 - salary_q1\n",
        "print(salary_iqr)\n",
        "\n",
        "salary_range = (salary_q1 - 1.5 * salary_iqr, salary_q3 + 1.5 * salary_iqr)\n",
        "print(salary_range)\n",
        "\n",
        "outliers = salary[(salary < salary_range[0]) | (salary > salary_range[1])]\n",
        "print(outliers.shape[0])\n",
        "\n",
        "print(outliers.shape[0] / salary.shape[0])"
      ],
      "execution_count": 3,
      "outputs": [
        {
          "output_type": "stream",
          "text": [
            "42.0\n",
            "81.0\n",
            "39.0\n",
            "(-16.5, 139.5)\n",
            "1\n",
            "0.05\n"
          ],
          "name": "stdout"
        },
        {
          "output_type": "display_data",
          "data": {
            "image/png": "[encoded data removed]",
            "text/plain": [
              "<Figure size 432x288 with 1 Axes>"
            ]
          },
          "metadata": {
            "tags": [],
            "needs_background": "light"
          }
        }
      ]
    },
    {
      "cell_type": "markdown",
      "metadata": {
        "id": "IqHKaZZNI79A"
      },
      "source": [
        "Задача 3"
      ]
    },
    {
      "cell_type": "code",
      "metadata": {
        "id": "PcQM5ntCHoRr"
      },
      "source": [
        "pxa = 0.8\n",
        "pxb = 0.7\n",
        "pxc = 0.9\n",
        "pa = 0.25\n",
        "pb = 0.25\n",
        "pc = 0.5"
      ],
      "execution_count": 4,
      "outputs": []
    },
    {
      "cell_type": "markdown",
      "metadata": {
        "id": "wb3YoklsHBdQ"
      },
      "source": [
        "*Вероятность того, что студент университета сдаст первую сессию:*"
      ]
    },
    {
      "cell_type": "code",
      "metadata": {
        "colab": {
          "base_uri": "https://localhost:8080/"
        },
        "id": "seZj0hAVJGEN",
        "outputId": "c19ad8a0-f22a-4939-cc3d-999d0c14d4d6"
      },
      "source": [
        "px = pxa * pa + pxb * pb + pxc * pc\n",
        "print(px)"
      ],
      "execution_count": 7,
      "outputs": [
        {
          "output_type": "stream",
          "text": [
            "0.825\n"
          ],
          "name": "stdout"
        }
      ]
    },
    {
      "cell_type": "markdown",
      "metadata": {
        "id": "Q9kq8_kqIQY1"
      },
      "source": [
        "*По формуле Байеса найдем вероятность того, что сдавший первую сессию студент учится на факультете А, В, С соответственно:*"
      ]
    },
    {
      "cell_type": "code",
      "metadata": {
        "colab": {
          "base_uri": "https://localhost:8080/"
        },
        "id": "jktiHC-DJZV9",
        "outputId": "ce4747ed-4a64-4d59-8151-10e63db94048"
      },
      "source": [
        "pax = pa * pxa / px\n",
        "print(round(pax, 2))\n",
        "pbx = pb * pxb / px\n",
        "print(round(pbx, 2))\n",
        "pcx = pc * pxc / px\n",
        "print(round(pcx, 2))"
      ],
      "execution_count": 11,
      "outputs": [
        {
          "output_type": "stream",
          "text": [
            "0.24\n",
            "0.21\n",
            "0.55\n"
          ],
          "name": "stdout"
        }
      ]
    }
  ]
}