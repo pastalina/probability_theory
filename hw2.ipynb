{
  "nbformat": 4,
  "nbformat_minor": 0,
  "metadata": {
    "colab": {
      "name": "hw2.ipynb",
      "provenance": [],
      "collapsed_sections": []
    },
    "kernelspec": {
      "name": "python3",
      "display_name": "Python 3"
    },
    "language_info": {
      "name": "python"
    }
  },
  "cells": [
    {
      "cell_type": "markdown",
      "metadata": {
        "id": "cPq98PYwCC8l"
      },
      "source": [
        "Домашнее задание № 2"
      ]
    },
    {
      "cell_type": "code",
      "metadata": {
        "id": "sWXbJF6VACTS"
      },
      "source": [
        "from math import factorial\n",
        "import numpy as np\n",
        "import sympy as sym\n",
        "from sympy.solvers import solve\n",
        "from sympy import Symbol"
      ],
      "execution_count": 48,
      "outputs": []
    },
    {
      "cell_type": "code",
      "metadata": {
        "id": "XcuM8mnhB4Do"
      },
      "source": [
        "def combinations(n, k):\n",
        "    return int(factorial(n) / (factorial(k) * factorial(n - k)))"
      ],
      "execution_count": 49,
      "outputs": []
    },
    {
      "cell_type": "markdown",
      "metadata": {
        "id": "0kF8zYXVB8TO"
      },
      "source": [
        "Задача 1"
      ]
    },
    {
      "cell_type": "code",
      "metadata": {
        "id": "NF1PrELjB6LR",
        "colab": {
          "base_uri": "https://localhost:8080/"
        },
        "outputId": "4d33ec61-86ce-44e1-bd09-39ad5462de76"
      },
      "source": [
        "x0 = 0\n",
        "x1 = 1\n",
        "x2 = 2 \n",
        "x3 = 3\n",
        "x4 = 4 \n",
        "x5 = 5 \n",
        "p = 1/4 \n",
        "q = 3/4\n",
        "n = 5\n",
        "\n",
        "def right_answer_probability(n, k):\n",
        "  return combinations(n, k) * (p**k) * (q**(n - k))\n",
        "\n",
        "p0 = right_answer_probability(5, 0)\n",
        "print(p0)\n",
        "p1 = right_answer_probability(5, 1)\n",
        "print(p1)\n",
        "p2 = right_answer_probability(5, 2)\n",
        "print(p2)\n",
        "p3 = right_answer_probability(5, 3)\n",
        "print(p3)\n",
        "p4 = right_answer_probability(5, 4)\n",
        "print(p4)\n",
        "p5 = right_answer_probability(5, 5)\n",
        "print(p5)\n",
        "print(p0 + p1 + p2 + p3 + p4 + p5)\n",
        "\n",
        "m = n * p\n",
        "print(\"Математическое ожидание равно:\", m)\n",
        "d = n * p * q\n",
        "print(\"Дисперсия равна:\", d)"
      ],
      "execution_count": 50,
      "outputs": [
        {
          "output_type": "stream",
          "text": [
            "0.2373046875\n",
            "0.3955078125\n",
            "0.263671875\n",
            "0.087890625\n",
            "0.0146484375\n",
            "0.0009765625\n",
            "1.0\n",
            "Математическое ожидание равно: 1.25\n",
            "Дисперсия равна: 0.9375\n"
          ],
          "name": "stdout"
        }
      ]
    },
    {
      "cell_type": "markdown",
      "metadata": {
        "id": "gcG4CJANGwRg"
      },
      "source": [
        "Задача 2"
      ]
    },
    {
      "cell_type": "code",
      "metadata": {
        "colab": {
          "base_uri": "https://localhost:8080/"
        },
        "id": "_7LlH_8rG0u8",
        "outputId": "a8654a5a-e793-424a-fde1-3681a90776ec"
      },
      "source": [
        "n = 200\n",
        "p = 0.01\n",
        "lambda_ = n * p\n",
        "\n",
        "def poisson_probability(k, lambda_):\n",
        "  return (lambda_**k) * np.exp(-lambda_) / np.math.factorial(k)\n",
        "\n",
        "p_poisson = sum(poisson_probability(k = i, lambda_ = lambda_) for i in range(5, 11))\n",
        "\n",
        "print(\"Вероятность того, что число попаданий при 200 выстрелах будет не менее 5 и не более 10:\", round(p_poisson, 3))"
      ],
      "execution_count": 51,
      "outputs": [
        {
          "output_type": "stream",
          "text": [
            "Вероятность того, что число попаданий при 200 выстрелах будет не менее 5 и не более 10: 0.053\n"
          ],
          "name": "stdout"
        }
      ]
    },
    {
      "cell_type": "markdown",
      "metadata": {
        "id": "dlfQKp15QhFt"
      },
      "source": [
        "Задача 3"
      ]
    },
    {
      "cell_type": "code",
      "metadata": {
        "id": "lNtl1hqXQj9Y",
        "colab": {
          "base_uri": "https://localhost:8080/"
        },
        "outputId": "15e44df2-69a1-4ca4-922b-e4ed7a9a6efc"
      },
      "source": [
        "n2 = 200\n",
        "while True:\n",
        "  lambda1 = n2 * p\n",
        "  p_poisson = sum(poisson_probability(k = i, lambda_ = lambda1) for i in range(10))\n",
        "  if round(p_poisson, 3) == 0.100:\n",
        "    break\n",
        "  n2 += 1\n",
        "print(\"Количество выстрелов, которое нужно сделать чтобы быть уверенным с вероятностью 0.9, что хотя бы 10 раз будет совершено попадание:\", n2)\n"
      ],
      "execution_count": 53,
      "outputs": [
        {
          "output_type": "stream",
          "text": [
            "Количество выстрелов, которое нужно сделать чтобы быть уверенным с вероятностью 0.9, что хотя бы 10 раз будет совершено попадание: 1420\n"
          ],
          "name": "stdout"
        }
      ]
    }
  ]
}