{
  "nbformat": 4,
  "nbformat_minor": 0,
  "metadata": {
    "colab": {
      "name": "hw4.ipynb",
      "provenance": [],
      "collapsed_sections": []
    },
    "kernelspec": {
      "name": "python3",
      "display_name": "Python 3"
    },
    "language_info": {
      "name": "python"
    }
  },
  "cells": [
    {
      "cell_type": "markdown",
      "metadata": {
        "id": "AG-0YLSWUwjx"
      },
      "source": [
        "# Домашнее задание 4"
      ]
    },
    {
      "cell_type": "code",
      "metadata": {
        "id": "K-uz1-DTUnjj"
      },
      "source": [
        "import numpy as np\n",
        "from scipy.stats import norm"
      ],
      "execution_count": 34,
      "outputs": []
    },
    {
      "cell_type": "markdown",
      "metadata": {
        "id": "Mlz0QGrmU2J5"
      },
      "source": [
        "Задача 1"
      ]
    },
    {
      "cell_type": "code",
      "metadata": {
        "colab": {
          "base_uri": "https://localhost:8080/"
        },
        "id": "NaGmggR4U8Hg",
        "outputId": "ca43bf60-f6d4-4b48-9935-4cccfe1cbc29"
      },
      "source": [
        "d = 0.2\n",
        "a = 0.5\n",
        "\n",
        "b = np.sqrt(12 * d) + a\n",
        "print(\"Правая граница равна:\", round(b, 2))\n",
        "\n",
        "m = (a + b) / 2\n",
        "print(\"Среднее значение равно:\", round(m, 2))"
      ],
      "execution_count": 35,
      "outputs": [
        {
          "output_type": "stream",
          "text": [
            "Правая граница равна: 2.05\n",
            "Среднее значение равно: 1.27\n"
          ],
          "name": "stdout"
        }
      ]
    },
    {
      "cell_type": "markdown",
      "metadata": {
        "id": "ERUI8iuszCQz"
      },
      "source": [
        "Задача 2"
      ]
    },
    {
      "cell_type": "code",
      "metadata": {
        "colab": {
          "base_uri": "https://localhost:8080/"
        },
        "id": "IGEnknUIzE2R",
        "outputId": "a59b63ea-66c3-4b8e-aa1a-e9d7c28ef628"
      },
      "source": [
        "loc = 174\n",
        "scale = 8\n",
        "\n",
        "p1 = 1 - norm.cdf(182, loc, scale)\n",
        "print(\"Вероятность того, что случайным образом выбранный взрослый человек имеет рост больше 182 см:\", round(p1, 3))\n",
        "p2 = 1 - norm.cdf(190, loc, scale)\n",
        "print(\"Вероятность того, что случайным образом выбранный взрослый человек имеет рост больше 190 см:\", round(p2, 3))\n",
        "p3 = norm.cdf(190, loc, scale) - norm.cdf(166, loc, scale)\n",
        "print(\"Вероятность того, что случайным образом выбранный взрослый человек имеет рост от 166 см до 190 см:\", round(p3, 3))\n",
        "p4 = norm.cdf(182, loc, scale) - norm.cdf(166, loc, scale)\n",
        "print(\"Вероятность того, что случайным образом выбранный взрослый человек имеет рост от 166 см до 182 см:\", round(p4, 3))\n",
        "p5 = norm.cdf(190, loc, scale) - norm.cdf(150, loc, scale)\n",
        "print(\"Вероятность того, что случайным образом выбранный взрослый человек имеет рост от 158 см до 190 см:\", round(p5, 3))\n",
        "p6 = 1 - norm.cdf(190, loc, scale) + norm.cdf(150, loc, scale)\n",
        "print(\"Вероятность того, что случайным образом выбранный взрослый человек имеет рост не выше 150 см или не ниже 190 см:\", round(p6, 3))\n",
        "p7 = 1 - norm.cdf(198, loc, scale) + norm.cdf(150, loc, scale)\n",
        "print(\"Вероятность того, что случайным образом выбранный взрослый человек имеет рост не выше 150 см или не ниже 198 см:\", round(p7, 3))\n",
        "p8 = norm.cdf(166, loc, scale)\n",
        "print(\"Вероятность того, что случайным образом выбранный взрослый человек имеет рост ниже 166 см:\", round(p8, 3))\n"
      ],
      "execution_count": 36,
      "outputs": [
        {
          "output_type": "stream",
          "text": [
            "Вероятность того, что случайным образом выбранный взрослый человек имеет рост больше 182 см: 0.159\n",
            "Вероятность того, что случайным образом выбранный взрослый человек имеет рост больше 190 см: 0.023\n",
            "Вероятность того, что случайным образом выбранный взрослый человек имеет рост от 166 см до 190 см: 0.819\n",
            "Вероятность того, что случайным образом выбранный взрослый человек имеет рост от 166 см до 182 см: 0.683\n",
            "Вероятность того, что случайным образом выбранный взрослый человек имеет рост от 158 см до 190 см: 0.976\n",
            "Вероятность того, что случайным образом выбранный взрослый человек имеет рост не выше 150 см или не ниже 190 см: 0.024\n",
            "Вероятность того, что случайным образом выбранный взрослый человек имеет рост не выше 150 см или не ниже 198 см: 0.003\n",
            "Вероятность того, что случайным образом выбранный взрослый человек имеет рост ниже 166 см: 0.159\n"
          ],
          "name": "stdout"
        }
      ]
    },
    {
      "cell_type": "markdown",
      "metadata": {
        "id": "tAFqem6x6ZeK"
      },
      "source": [
        "Задача 3"
      ]
    },
    {
      "cell_type": "code",
      "metadata": {
        "colab": {
          "base_uri": "https://localhost:8080/"
        },
        "id": "QkfzIjjX6him",
        "outputId": "453fb415-1887-4ba5-f7fd-ee36590b95e5"
      },
      "source": [
        "loc_ = 1.06\n",
        "p_1 = 0\n",
        "scale_ = 0\n",
        "\n",
        "while p_1 < 0.05:\n",
        "  scale_ += 0.0001\n",
        "  p_1 = norm.cdf(x=1, loc=1.06, scale=scale_)\n",
        "\n",
        "print(\"Среднее квадратическое отклонение массы коробки:\", round(scale_, 4))\n",
        "\n",
        "p_2 = norm.cdf(1.1, loc_, scale_) * 100\n",
        "print(\"Процент коробок, имеющих массу больше 1.1 кг:\", round(p_2, 2))\n"
      ],
      "execution_count": 37,
      "outputs": [
        {
          "output_type": "stream",
          "text": [
            "Среднее квадратическое отклонение массы коробки: 0.0365\n",
            "Процент коробок, имеющих массу больше 1.1 кг: 86.34\n"
          ],
          "name": "stdout"
        }
      ]
    }
  ]
}