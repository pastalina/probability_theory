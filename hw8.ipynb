{
  "nbformat": 4,
  "nbformat_minor": 0,
  "metadata": {
    "colab": {
      "name": "hw8.ipynb",
      "provenance": [],
      "collapsed_sections": []
    },
    "kernelspec": {
      "name": "python3",
      "display_name": "Python 3"
    },
    "language_info": {
      "name": "python"
    }
  },
  "cells": [
    {
      "cell_type": "markdown",
      "metadata": {
        "id": "th0XCt50hGKJ"
      },
      "source": [
        "Домашнее задание 8"
      ]
    },
    {
      "cell_type": "code",
      "metadata": {
        "id": "OfYgfRqehCui"
      },
      "source": [
        "import numpy as np\n",
        "from scipy import stats\n",
        "from sklearn.linear_model import LinearRegression\n",
        "import pandas as pd\n",
        "import statsmodels.api as sm\n",
        "import matplotlib.pyplot as plt\n",
        "import pandas.util.testing as tm\n",
        "from scipy.stats import f_oneway"
      ],
      "execution_count": 26,
      "outputs": []
    },
    {
      "cell_type": "markdown",
      "metadata": {
        "id": "obbc33OFhVuN"
      },
      "source": [
        "Задача 1"
      ]
    },
    {
      "cell_type": "code",
      "metadata": {
        "colab": {
          "base_uri": "https://localhost:8080/"
        },
        "id": "zvNd2bTXhXkK",
        "outputId": "3a3807a9-023e-420d-cc80-5ba38f351c60"
      },
      "source": [
        "football_players = np.array([173, 175, 180, 178, 177, 185, 183, 182])\n",
        "hockey_players = np.array([177, 179, 180, 188, 177, 172, 171, 184, 180])\n",
        "lifters = np.array([172, 173, 169, 177, 166, 180, 178, 177, 172, 166, 170])\n",
        "\n",
        "n1 = football_players.shape[0]\n",
        "n2 = hockey_players.shape[0]\n",
        "n3 = lifters.shape[0]\n",
        "\n",
        "# H0 - вид спорта не влияет на рост взрослого спортсмена\n",
        "\n",
        "football_players_mean = football_players.mean()\n",
        "hockey_players_mean = hockey_players.mean()\n",
        "lifters_mean = lifters.mean()\n",
        "\n",
        "print(f\"Средний рост футболиста: {football_players_mean}, хоккеиста: {hockey_players_mean}, штангиста: {lifters_mean}\") # Средние значения роста в группах отличаются не сильно\n",
        "\n",
        "sportsmen = np.concatenate([football_players, hockey_players, lifters])\n",
        "print(\"Обьединение по трем выборкам:\", sportsmen)\n",
        "\n",
        "sportsmen_mean = sportsmen.mean()\n",
        "print(\"Средний рост по объединенной выборке:\", sportsmen_mean)\n",
        "\n",
        "SS2_b = n1 * (football_players_mean - sportsmen_mean) ** 2 + n2 * (hockey_players_mean - sportsmen_mean) ** 2 + n3 * (lifters_mean - sportsmen_mean) ** 2\n",
        "SS2_w = ((football_players - football_players_mean) ** 2).sum() + ((hockey_players - hockey_players_mean) ** 2).sum() + ((lifters - lifters_mean) ** 2).sum()\n",
        "print(f\"Межгрупповое отклонение: {SS2_b}, внутригрупповое отклонение: {SS2_w}\")\n",
        "\n",
        "print(round(SS2_b + SS2_w, 12) == round(((sportsmen - sportsmen_mean) ** 2).sum(), 12)) # Равенство верно\n",
        "\n",
        "k = 3\n",
        "n = n1 + n2 + n3\n",
        "k1 = k - 1\n",
        "k2 = n - k\n",
        "sigma2_b = SS2_b / k1\n",
        "sigma2_w = SS2_w / k2\n",
        "print(f\"Несмещенные оценки дисперсии для межгруппового отклонения: {sigma2_b}, для внутригруппового отклонения: {sigma2_w}\")\n",
        "\n",
        "F = sigma2_b / sigma2_w\n",
        "print(\"Критерий Фишера:\", F)\n",
        "\n",
        "alpha = 0.05\n",
        "t = stats.f.ppf(1 - alpha, k1, k2)\n",
        "print(f\"Критическая область от {t} до + бесконечности\") # Значение статистики лежит в критической области - гипотеза Н0 отвергается\n",
        "\n",
        "p = 1 - stats.f.cdf(T, k1, k2)\n",
        "print(\"P-value:\", p) # P-value меньше alpha - - гипотеза Н0 отвергается\n",
        "\n",
        "f_oneway(football_players, hockey_players, lifters)\n",
        "\n",
        "# Вид спорта влияет на рост взрослого спортсмена"
      ],
      "execution_count": 38,
      "outputs": [
        {
          "output_type": "stream",
          "text": [
            "Средний рост футболиста: 179.125, хоккеиста: 178.66666666666666, штангиста: 172.72727272727272\n",
            "Обьединение по трем выборкам: [173 175 180 178 177 185 183 182 177 179 180 188 177 172 171 184 180 172\n",
            " 173 169 177 166 180 178 177 172 166 170]\n",
            "Средний рост по объединенной выборке: 176.46428571428572\n",
            "Межгрупповое отклонение: 253.9074675324678, внутригрупповое отклонение: 577.0568181818182\n",
            "True\n",
            "Несмещенные оценки дисперсии для межгруппового отклонения: 126.9537337662339, для внутригруппового отклонения: 23.08227272727273\n",
            "Критерий Фишера: 5.500053450812598\n",
            "Критическая область от 3.3851899614491687 до + бесконечности\n",
            "P-value: 0.010482206918698611\n"
          ],
          "name": "stdout"
        },
        {
          "output_type": "execute_result",
          "data": {
            "text/plain": [
              "F_onewayResult(statistic=5.500053450812596, pvalue=0.010482206918698694)"
            ]
          },
          "metadata": {},
          "execution_count": 38
        }
      ]
    }
  ]
}