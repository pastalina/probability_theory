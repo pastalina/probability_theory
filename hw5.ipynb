{
  "nbformat": 4,
  "nbformat_minor": 0,
  "metadata": {
    "colab": {
      "name": "hw5.ipynb",
      "provenance": [],
      "collapsed_sections": []
    },
    "kernelspec": {
      "name": "python3",
      "display_name": "Python 3"
    },
    "language_info": {
      "name": "python"
    }
  },
  "cells": [
    {
      "cell_type": "markdown",
      "metadata": {
        "id": "7Ws-xGmJKKXi"
      },
      "source": [
        "# Домашнее задание 5"
      ]
    },
    {
      "cell_type": "code",
      "metadata": {
        "id": "7h_gha1qKH7g"
      },
      "source": [
        "import numpy as np\n",
        "from scipy import stats"
      ],
      "execution_count": 48,
      "outputs": []
    },
    {
      "cell_type": "markdown",
      "metadata": {
        "id": "s-7N0mZoKSeu"
      },
      "source": [
        "Задача 1"
      ]
    },
    {
      "cell_type": "code",
      "metadata": {
        "colab": {
          "base_uri": "https://localhost:8080/"
        },
        "id": "Sh37N2GOKUXp",
        "outputId": "03a1c2c4-d22c-4bf2-83ac-cd1bc002ab3f"
      },
      "source": [
        "p = 0.95\n",
        "alpha = 1 - p\n",
        "mean = 80\n",
        "std = 16\n",
        "n = 256\n",
        "\n",
        "t1 = stats.norm.ppf(alpha / 2)\n",
        "t2 = stats.norm.ppf(1 - alpha / 2)\n",
        "\n",
        "(mean + t1 * std / np.sqrt(n), mean + t2 * std / np.sqrt(n))"
      ],
      "execution_count": 50,
      "outputs": [
        {
          "output_type": "execute_result",
          "data": {
            "text/plain": [
              "(78.04003601545995, 81.95996398454005)"
            ]
          },
          "metadata": {
            "tags": []
          },
          "execution_count": 50
        }
      ]
    },
    {
      "cell_type": "markdown",
      "metadata": {
        "id": "k9lljljeOpc0"
      },
      "source": [
        "Задача 2"
      ]
    },
    {
      "cell_type": "code",
      "metadata": {
        "id": "wkAr4CgSOsY9"
      },
      "source": [
        "cookies = np.array([202, 203, 199, 197, 195, 201, 200, 204, 194, 190])\n",
        "mean_weight = 200\n",
        "n2 = 10"
      ],
      "execution_count": 62,
      "outputs": []
    },
    {
      "cell_type": "markdown",
      "metadata": {
        "id": "3180ZiK1kAVd"
      },
      "source": [
        "*I. H0: Средний вес пачки печенья составляет 200 г. H1: Средний вес пачки печенья не 200 г.*"
      ]
    },
    {
      "cell_type": "markdown",
      "metadata": {
        "id": "v1AYmSk5lF95"
      },
      "source": [
        "*II. Дисперсия не известна, поэтому используем t-статистику.*"
      ]
    },
    {
      "cell_type": "markdown",
      "metadata": {
        "id": "L5wvHUDongjK"
      },
      "source": [
        "*III. Уровень значимости 0.01*"
      ]
    },
    {
      "cell_type": "code",
      "metadata": {
        "id": "4tUYQ7vOlBJg"
      },
      "source": [
        "alpha2 = 0.01"
      ],
      "execution_count": 63,
      "outputs": []
    },
    {
      "cell_type": "markdown",
      "metadata": {
        "id": "enPI8OnTqg9m"
      },
      "source": [
        "*IV. Определяем критическую область:*"
      ]
    },
    {
      "cell_type": "code",
      "metadata": {
        "colab": {
          "base_uri": "https://localhost:8080/"
        },
        "id": "HkdfjCMZqePW",
        "outputId": "c04558b7-f909-4f2d-a276-cc732e2f299c"
      },
      "source": [
        "t_1 = stats.t.ppf(alpha2 / 2, df=n2-1)\n",
        "t_2 = stats.t.ppf(1 - alpha2 / 2, df=n2-1)\n",
        "print(t_1, t_2)"
      ],
      "execution_count": 64,
      "outputs": [
        {
          "output_type": "stream",
          "text": [
            "-3.24983554401537 3.2498355440153697\n"
          ],
          "name": "stdout"
        }
      ]
    },
    {
      "cell_type": "markdown",
      "metadata": {
        "id": "f4Eow3_XqyTX"
      },
      "source": [
        "*V. Проводим статистический тест:*"
      ]
    },
    {
      "cell_type": "code",
      "metadata": {
        "colab": {
          "base_uri": "https://localhost:8080/"
        },
        "id": "nfLjp3P7q9DB",
        "outputId": "0153a1eb-086c-4503-8950-92459fcba890"
      },
      "source": [
        "t = (cookies.mean() - mean_weight) / (cookies.std(ddof=1) / np.sqrt(n2))\n",
        "print(t)"
      ],
      "execution_count": 65,
      "outputs": [
        {
          "output_type": "stream",
          "text": [
            "-1.0651074037450896\n"
          ],
          "name": "stdout"
        }
      ]
    },
    {
      "cell_type": "markdown",
      "metadata": {
        "id": "MJLv0PULuv9t"
      },
      "source": [
        "*H0 принимается, то есть средний вес пачки печенья составляет 200 г.*"
      ]
    },
    {
      "cell_type": "code",
      "metadata": {
        "colab": {
          "base_uri": "https://localhost:8080/"
        },
        "id": "NZhevbZ5vbLK",
        "outputId": "dd98b8b5-13d4-4665-940a-f08fd762aec2"
      },
      "source": [
        "p_left = stats.t.cdf(t, df=n2-1)\n",
        "p_right = 1 - stats.t.cdf(t, df=n2-1)\n",
        "\n",
        "p_value = 2 * min(p_left, p_right)\n",
        "print(p_value, \", H0 is\", alpha2 < p_value)"
      ],
      "execution_count": 66,
      "outputs": [
        {
          "output_type": "stream",
          "text": [
            "0.31456660352472854 , H0 is True\n"
          ],
          "name": "stdout"
        }
      ]
    },
    {
      "cell_type": "markdown",
      "metadata": {
        "id": "k3y33n-0x6lN"
      },
      "source": [
        "Задача 3"
      ]
    },
    {
      "cell_type": "code",
      "metadata": {
        "colab": {
          "base_uri": "https://localhost:8080/"
        },
        "id": "oUtw5II-x8hn",
        "outputId": "7833c14a-51c9-4788-f629-0943939f7c54"
      },
      "source": [
        "mu = 17\n",
        "alpha3 = 0.025\n",
        "n3 = 100\n",
        "mean_d = 17.5\n",
        "var = 4\n",
        "std = np.sqrt(var)\n",
        "\n",
        "t_ = stats.norm.ppf(1 - alpha3)\n",
        "print(t_)\n",
        "\n",
        "z = (mean_d - mu) / (std / np.sqrt(n3))\n",
        "print(z)\n"
      ],
      "execution_count": 70,
      "outputs": [
        {
          "output_type": "stream",
          "text": [
            "1.959963984540054\n",
            "2.5\n"
          ],
          "name": "stdout"
        }
      ]
    },
    {
      "cell_type": "markdown",
      "metadata": {
        "id": "w-0WXvfm8_5R"
      },
      "source": [
        "*Значение Z-статистики входит в критическую область, следовательно H0 отвергается*"
      ]
    },
    {
      "cell_type": "markdown",
      "metadata": {
        "id": "f_kaHr8Z-k_a"
      },
      "source": [
        "Задача 4"
      ]
    },
    {
      "cell_type": "code",
      "metadata": {
        "colab": {
          "base_uri": "https://localhost:8080/"
        },
        "id": "HWu2p8H7-n6F",
        "outputId": "67cb2192-17c3-47ac-eb1a-7a5fc4dba57d"
      },
      "source": [
        "samples = np.array([0.6603, 0.9466, 0.5968, 1.3792, 1.5481, 0.7515, 1.0681, 1.1134,\n",
        "                    1.2088, 1.701 , 1.0282, 1.3579, 1.0191, 1.1784, 1.1168, 1.1372,\n",
        "                    0.7273, 1.3958, 0.8665, 1.5112, 1.161 , 1.0232, 1.0865, 1.02])\n",
        "variance = 0.0625\n",
        "alpha4 = 0.05\n",
        "n4 = samples.shape[0]\n",
        "sample_variance = samples.var(ddof=1)\n",
        "\n",
        "h = (n4 - 1) * sample_variance / variance\n",
        "t1_ = stats.chi2.ppf(alpha4 / 2, df=n4-1)\n",
        "t2_ = stats.chi2.ppf(1 - alpha4 / 2, df=n4-1)\n",
        "print(t1_, t2_, h)\n",
        "t1_ <= h <= t2_\n"
      ],
      "execution_count": 80,
      "outputs": [
        {
          "output_type": "stream",
          "text": [
            "11.688551922452438 38.0756272503558 28.720541753333343\n"
          ],
          "name": "stdout"
        },
        {
          "output_type": "execute_result",
          "data": {
            "text/plain": [
              "True"
            ]
          },
          "metadata": {
            "tags": []
          },
          "execution_count": 80
        }
      ]
    }
  ]
}