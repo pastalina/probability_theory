{
  "nbformat": 4,
  "nbformat_minor": 0,
  "metadata": {
    "colab": {
      "name": "hw6.ipynb",
      "provenance": [],
      "collapsed_sections": []
    },
    "kernelspec": {
      "name": "python3",
      "display_name": "Python 3"
    },
    "language_info": {
      "name": "python"
    }
  },
  "cells": [
    {
      "cell_type": "markdown",
      "metadata": {
        "id": "bRR33nst9F-2"
      },
      "source": [
        "# Домашнее задание 6"
      ]
    },
    {
      "cell_type": "code",
      "metadata": {
        "id": "0I6vBKzM9BXo"
      },
      "source": [
        "import numpy as np\n",
        "from scipy import stats"
      ],
      "execution_count": 1,
      "outputs": []
    },
    {
      "cell_type": "markdown",
      "metadata": {
        "id": "YFLGnk_89Lwp"
      },
      "source": [
        "Задача 1"
      ]
    },
    {
      "cell_type": "code",
      "metadata": {
        "colab": {
          "base_uri": "https://localhost:8080/"
        },
        "id": "Jh6t0EqyxPzO",
        "outputId": "9472f226-49d9-4ac7-8c08-3f099e9b5765"
      },
      "source": [
        "salary = np.array([35, 45, 190, 200, 40, 70, 54, 150, 120, 110])\n",
        "scoring = np.array([401, 574, 874, 919, 459, 739, 653, 902, 746, 832])\n",
        "\n",
        "m_salary = salary.mean()\n",
        "m_scoring = scoring.mean()\n",
        "cov = ((salary - m_salary) * (scoring - m_scoring)).sum() / (salary.shape[0] - 1)\n",
        "print(cov)\n",
        "\n",
        "np.cov(salary, scoring)\n"
      ],
      "execution_count": 8,
      "outputs": [
        {
          "output_type": "stream",
          "text": [
            "10175.37777777778\n"
          ],
          "name": "stdout"
        },
        {
          "output_type": "execute_result",
          "data": {
            "text/plain": [
              "array([[ 3882.93333333, 10175.37777778],\n",
              "       [10175.37777778, 33854.32222222]])"
            ]
          },
          "metadata": {},
          "execution_count": 8
        }
      ]
    },
    {
      "cell_type": "markdown",
      "metadata": {
        "id": "_WyqmTSOxRy6"
      },
      "source": [
        "Задача 2"
      ]
    },
    {
      "cell_type": "code",
      "metadata": {
        "colab": {
          "base_uri": "https://localhost:8080/"
        },
        "id": "bAr0QxD29OSQ",
        "outputId": "42ed279a-f40f-4c5f-a3f3-3fa7b4bd7d08"
      },
      "source": [
        "iq = np.array([131, 125, 115, 122, 131, 115, 107, 99, 125, 111])\n",
        "p = 0.95\n",
        "alpha = 1 - p\n",
        "\n",
        "mean_iq = iq.mean()\n",
        "std_iq = iq.std(ddof=1)\n",
        "n = iq.shape[0]\n",
        "\n",
        "t1 = stats.t.ppf(alpha / 2, df=n-1)\n",
        "t2 = stats.t.ppf(1 - alpha / 2, df=n-1)\n",
        "\n",
        "(mean_iq + t1 * std_iq / np.sqrt(n), mean_iq + t2 * std_iq / np.sqrt(n))"
      ],
      "execution_count": 11,
      "outputs": [
        {
          "output_type": "execute_result",
          "data": {
            "text/plain": [
              "(110.55608365158724, 125.64391634841274)"
            ]
          },
          "metadata": {},
          "execution_count": 11
        }
      ]
    },
    {
      "cell_type": "markdown",
      "metadata": {
        "id": "a0EsAxz50iQK"
      },
      "source": [
        "Задача 3"
      ]
    },
    {
      "cell_type": "code",
      "metadata": {
        "colab": {
          "base_uri": "https://localhost:8080/"
        },
        "id": "nIVfOcmJ0k-i",
        "outputId": "9decc443-d676-49d2-da68-d42f51e20ad0"
      },
      "source": [
        "var_height = 25\n",
        "n2 = 27\n",
        "mean_height = 174.2\n",
        "p = 0.95\n",
        "alpha = 1 - p\n",
        "std_height = np.sqrt(var_height)\n",
        "\n",
        "t_1 = stats.norm.ppf(alpha / 2)\n",
        "t_2 = stats.norm.ppf(1 - alpha / 2)\n",
        "\n",
        "(mean_height + t_1 * std_height / np.sqrt(n2), mean_height + t_2 * std_height / np.sqrt(n2))"
      ],
      "execution_count": 13,
      "outputs": [
        {
          "output_type": "execute_result",
          "data": {
            "text/plain": [
              "(172.3140237765397, 176.08597622346028)"
            ]
          },
          "metadata": {},
          "execution_count": 13
        }
      ]
    }
  ]
}