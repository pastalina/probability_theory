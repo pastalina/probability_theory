{
  "nbformat": 4,
  "nbformat_minor": 0,
  "metadata": {
    "colab": {
      "name": "hw7.ipynb",
      "provenance": [],
      "collapsed_sections": []
    },
    "kernelspec": {
      "name": "python3",
      "display_name": "Python 3"
    },
    "language_info": {
      "name": "python"
    }
  },
  "cells": [
    {
      "cell_type": "markdown",
      "metadata": {
        "id": "pqEBypAWVGpq"
      },
      "source": [
        "# Домашнее задание 7"
      ]
    },
    {
      "cell_type": "code",
      "metadata": {
        "id": "PP3KkCwDVCMT"
      },
      "source": [
        "import numpy as np\n",
        "from scipy import stats\n",
        "from sklearn.linear_model import LinearRegression\n",
        "import pandas as pd\n",
        "import statsmodels.api as sm\n",
        "import matplotlib.pyplot as plt"
      ],
      "execution_count": 64,
      "outputs": []
    },
    {
      "cell_type": "markdown",
      "metadata": {
        "id": "rAR86iRRVNUk"
      },
      "source": [
        "Задача 1"
      ]
    },
    {
      "cell_type": "code",
      "metadata": {
        "colab": {
          "base_uri": "https://localhost:8080/"
        },
        "id": "MO5HFVNoVPbi",
        "outputId": "ebe25e9e-cfd0-41fe-fe05-26c0ef225276"
      },
      "source": [
        "x = np.array([[ 1.22401313, 2.30868478, 3.03636353, 2.69287214],\n",
        "[-0.18757272, 1.30337355, 5.12093014, 3.46363202],\n",
        "[-0.81094525, 1.82463398, 5.79686488, 1.86159445],\n",
        "[ 0.75129018, 2.67392052, 3.65529809, 1.66746094],\n",
        "[ 0.00972362, 1.97367255, 2.50594319, 1.69755173],\n",
        "[-0.62972637, 0.77750764, 2.84124027, 4.54410559],\n",
        "[ 2.29536229, 1.81206697, 1.95026215, 1.51874636],\n",
        "[ 0.0920418 , 2.26971361, 7.47708735, 2.61081203],\n",
        "[ 2.39252799, 3.17563985, 3.61420599, 5.10773362],\n",
        "[ 0.54983815, 2.87988651, 1.65752765, 1.59635987]])\n",
        "y = np.array([ 9.26193358, 9.700363 , 8.67214805, 8.74796974, 6.18689108,\n",
        "7.53312713, 7.57643777, 12.44965478, 14.29010746, 6.68361218])\n",
        "\n",
        "def ones(x):\n",
        "  ones = np.ones((x.shape[0], 1))\n",
        "  return np.hstack((ones, x))\n",
        "\n",
        "def sum_of_squares(samples):\n",
        "  return ((samples - samples.mean())**2).sum()\n",
        "\n",
        "def get_b(x):\n",
        "  xtx = x.T.dot(x)\n",
        "  xtx_inv = np.linalg.inv(xtx)\n",
        "  return xtx_inv.dot(x.T).dot(y)\n",
        "\n",
        "def r_square(x, b):\n",
        "  z = x.dot(b)\n",
        "  return 1 - ((y - z)**2).sum() / sum_of_squares(y)\n",
        "\n",
        "x1 = ones(x[:, [0, 1]])\n",
        "x2 = ones(x[:, [0, 2]])\n",
        "x3 = ones(x[:, [0, 3]])\n",
        "x4 = ones(x[:, [1, 2]])\n",
        "x5 = ones(x[:, [1, 3]])\n",
        "x6 = ones(x[:, [2, 3]])\n",
        "\n",
        "b1 = get_b(x1)\n",
        "print(b1)\n",
        "model1 = LinearRegression().fit(x1, y)\n",
        "print(model1.intercept_, model1.coef_)\n",
        "z1 = x1.dot(b1)\n",
        "R1 = r_square(x1, b1)\n",
        "print(R1)\n",
        "\n",
        "b2 = get_b(x2)\n",
        "print(b2)\n",
        "R2 = r_square(x2, b2)\n",
        "print(R2)\n",
        "\n",
        "b3 = get_b(x3)\n",
        "print(b3)\n",
        "R3 = r_square(x3, b3)\n",
        "print(R3)\n",
        "\n",
        "b4 = get_b(x4)\n",
        "print(b4)\n",
        "R4 = r_square(x4, b4)\n",
        "print(R4)\n",
        "\n",
        "b5 = get_b(x5)\n",
        "print(b5)\n",
        "R5 = r_square(x5, b5)\n",
        "print(R5)\n",
        "\n",
        "b6 = get_b(x6)\n",
        "print(b6)\n",
        "R6 = r_square(x6, b6)\n",
        "print(R6)\n",
        "\n",
        "max(R1, R2, R3, R4, R5, R6)\n",
        "\n",
        "if R1 == max(R1, R2, R3, R4, R5, R6):\n",
        "  print(\"Mодель линейной регрессии на признаках 1 и 2 дает наилучший результат\")\n",
        "elif R2 == max(R1, R2, R3, R4, R5, R6):\n",
        "  print(\"Mодель линейной регрессии на признаках 1 и 3 дает наилучший результат\")\n",
        "elif R3 == max(R1, R2, R3, R4, R5, R6):\n",
        "  print(\"Mодель линейной регрессии на признаках 1 и 4 дает наилучший результат\")\n",
        "elif R4 == max(R1, R2, R3, R4, R5, R6):\n",
        "  print(\"Mодель линейной регрессии на признаках 2 и 3 дает наилучший результат\")\n",
        "elif R5 == max(R1, R2, R3, R4, R5, R6):\n",
        "  print(\"Mодель линейной регрессии на признаках 2 и 4 дает наилучший результат\")\n",
        "elif R6 == max(R1, R2, R3, R4, R5, R6):\n",
        "  print(\"Mодель линейной регрессии на признаках 3 и 4 дает наилучший результат\")\n",
        "\n",
        "n = x2.shape[0]\n",
        "m = x2.shape[1] - 1\n",
        "k1 = m\n",
        "k2 = n - m - 1\n",
        "alpha = 0.05\n",
        "t = stats.f.ppf(1 - alpha, k1, k2)\n",
        "F = (R2 / k1) / ((1 - R2) / k2)\n",
        "if F > t:\n",
        "  print(\"Уравнение регрессии является значимым\")\n",
        "else:\n",
        "  print(\"Уравнение регрессии не является значимым\")\n"
      ],
      "execution_count": 65,
      "outputs": [
        {
          "output_type": "stream",
          "text": [
            "[6.70781579 0.40786841 1.03360247]\n",
            "6.7078157904977385 [0.         0.40786841 1.03360247]\n",
            "0.18113594742585215\n",
            "[3.62455695 1.62531203 1.21134979]\n",
            "0.7634246238793151\n",
            "[5.70686123 0.68359949 1.12650707]\n",
            "0.4532966783144077\n",
            "[2.48896193 1.60611956 0.86269915]\n",
            "0.5479482734039008\n",
            "[1.91685221 1.74373667 1.31971882]\n",
            "0.6062055761129932\n",
            "[3.64001086 0.70753914 1.04851745]\n",
            "0.6224419876505322\n",
            "Mодель линейной регрессии на признаках 1 и 3 дает наилучший результат\n",
            "Уравнение регрессии является значимым\n"
          ],
          "name": "stdout"
        }
      ]
    },
    {
      "cell_type": "markdown",
      "metadata": {
        "id": "e0WGqeKcMZWD"
      },
      "source": [
        "Задача 2"
      ]
    },
    {
      "cell_type": "code",
      "metadata": {
        "colab": {
          "base_uri": "https://localhost:8080/",
          "height": 415
        },
        "id": "0FzrCEVtMa_U",
        "outputId": "d883058e-a6c6-46a8-d1a7-fd40aac96728"
      },
      "source": [
        "salary = np.array([35, 45, 190, 200, 40, 70, 54, 150, 120, 110])\n",
        "scoring = np.array([401, 574, 874, 919, 459, 739, 653, 902, 746, 832])\n",
        "\n",
        "b = (np.mean(salary * scoring) - np.mean(salary) * np.mean(scoring)) / (np.mean(salary ** 2) - np.mean(salary) ** 2)\n",
        "b0 = np.mean(scoring) - b * np.mean(salary)\n",
        "print(b0, b)\n",
        "\n",
        "salary_ = ones(salary.reshape(-1, 1))\n",
        "xtx = salary_.T.dot(salary_)\n",
        "xtx_inv = np.linalg.inv(xtx)\n",
        "b_ = xtx_inv.dot(salary_.T).dot(scoring)\n",
        "print(\"Коэффициенты линейной регрессии:\", b_)\n",
        "\n",
        "ox = salary\n",
        "oy = b0 + b * ox\n",
        "\n",
        "plt.scatter(salary, scoring)\n",
        "plt.plot(ox, oy, color='red', alpha=0.5)\n",
        "\n",
        "plt.xlabel(\"зарплата\")\n",
        "plt.ylabel(\"скоринг\")\n",
        "\n",
        "z = b0 + b * salary\n",
        "R = 1 - ((scoring - z) ** 2).sum() / sum_of_squares(scoring)\n",
        "print(\"Коэффициент детерминации:\", R)\n",
        "\n",
        "n_ = salary.shape[0]\n",
        "m = 1\n",
        "k1_ = m\n",
        "k2_ = n_ - m - 1\n",
        "alpha = 0.05\n",
        "t_ = stats.f.ppf(1 - alpha, k1_, k2_)\n",
        "F_ = (R / k1_) / ((1 - R) / k2_)\n",
        "print(\"Критерий Фишера:\", F_)\n",
        "\n",
        "if F_ > t_:\n",
        "  print(\"Уравнение регрессии является значимым\")\n",
        "else:\n",
        "  print(\"Уравнение регрессии не является значимым\")\n",
        "\n",
        "def s_e_s(\n",
        "    x: np.ndarray,\n",
        "    y: np.ndarray,\n",
        "    z: np.ndarray,\n",
        ") -> float:\n",
        "  n = x.shape[0]\n",
        "\n",
        "  upper = ((y - z) ** 2).sum() / (n - 2)\n",
        "  lower = ((x - x.mean()) ** 2).sum()\n",
        "  return np.sqrt(upper / lower)\n",
        "\n",
        "s_slope = s_e_s(salary, scoring, z)\n",
        "t1 = stats.t.ppf(alpha / 2, df=n_-2)\n",
        "t2 = stats.t.ppf(1 - alpha / 2, df=n_-2)\n",
        "(b + t1 * s_slope, b + t2 * s_slope)\n",
        "if b + t1 * s_slope > 0 and b + t2 * s_slope > 0:\n",
        "  print(\"Параметр b является значимым\")\n",
        "else:\n",
        "  print(\"Параметр b не является значимым\")\n",
        "\n",
        "def s_e_i(\n",
        "    x: np.ndarray,\n",
        "    y: np.ndarray,\n",
        "    z: np.ndarray,\n",
        ") -> float:\n",
        "  return s_e_s(x, y, z) * np.sqrt((x ** 2).mean())\n",
        "\n",
        "s_intercept = s_e_i(salary, scoring, z)\n",
        "(b0 + t1 * s_intercept, b0 + t2 * s_intercept)\n",
        "if b0 + t1 * s_intercept > 0 and b0 + t2 * s_intercept > 0:\n",
        "  print(\"Параметр b0 является значимым\")\n",
        "else:\n",
        "  print(\"Параметр b0 не является значимым\")\n",
        "\n",
        "E = abs((scoring - z) / scoring).sum() * 100 / n_\n",
        "print(\"Средняя ошибка аппроксимации, %:\", E)"
      ],
      "execution_count": 94,
      "outputs": [
        {
          "output_type": "stream",
          "text": [
            "444.1773573243596 2.620538882402765\n",
            "Коэффициенты линейной регрессии: [444.17735732   2.62053888]\n",
            "Коэффициент детерминации: 0.7876386635293686\n",
            "Критерий Фишера: 29.67164085966451\n",
            "Уравнение регрессии является значимым\n",
            "Параметр b является значимым\n",
            "Параметр b0 является значимым\n",
            "Средняя ошибка аппроксимации, %: 11.469251843561711\n"
          ],
          "name": "stdout"
        },
        {
          "output_type": "display_data",
          "data": {
            "image/png": "[encoded data removed]",
            "text/plain": [
              "<Figure size 432x288 with 1 Axes>"
            ]
          },
          "metadata": {
            "needs_background": "light"
          }
        }
      ]
    }
  ]
}